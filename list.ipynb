{
 "cells": [
  {
   "cell_type": "code",
   "execution_count": 2,
   "id": "8878de0c",
   "metadata": {},
   "outputs": [
    {
     "name": "stdout",
     "output_type": "stream",
     "text": [
      "Yes, 'apple' is in the  list\n"
     ]
    }
   ],
   "source": [
    "#1.check if a list contains a element.\n",
    "    \n",
    "thislist = [\"apple\", \"banana\", \"cherry\"]\n",
    "if \"apple\" in thislist:\n",
    "  print(\"Yes, 'apple' is in the  list\")\n"
   ]
  },
  {
   "cell_type": "code",
   "execution_count": 1,
   "id": "19fb6563",
   "metadata": {},
   "outputs": [
    {
     "data": {
      "text/plain": [
       "2"
      ]
     },
     "execution_count": 1,
     "metadata": {},
     "output_type": "execute_result"
    }
   ],
   "source": [
    "#2.find a index of the 1st matching element|for ex.fruits=['pear','orange','apple','grapefruit','apple','pear']\n",
    "fruits=['pear','orange','apple','grapefruit','apple','pear']\n",
    "fruits.index('apple')\n",
    "\n"
   ]
  },
  {
   "cell_type": "code",
   "execution_count": 3,
   "id": "3c254600",
   "metadata": {},
   "outputs": [
    {
     "name": "stdout",
     "output_type": "stream",
     "text": [
      "[]\n"
     ]
    }
   ],
   "source": [
    "#3.remove all elements from a list from 2 methods|fruit=['pear','orange','apple']\n",
    "fruit=['pear','orange','apple']\n",
    "del fruit\n",
    "\n",
    "thislist = [\"apple\", \"banana\", \"cherry\"]\n",
    "thislist.clear()\n",
    "print(thislist)\n"
   ]
  },
  {
   "cell_type": "code",
   "execution_count": 4,
   "id": "9638455d",
   "metadata": {},
   "outputs": [
    {
     "name": "stdout",
     "output_type": "stream",
     "text": [
      "['a', 'b', 'c', 'd', 'e', 'dog', 'cat', 'fish', 'cat']\n",
      "['a', 'b', 'c', 'd', 'e', 'dog', 'cat', 'fish', 'cat']\n"
     ]
    }
   ],
   "source": [
    "#4.concatenate two lists from 2 ways.\n",
    "li=['a','b','c','d','e']\n",
    "pets=['dog','cat','fish','cat']\n",
    "\n",
    "li.extend(pets)\n",
    "print(li)\n",
    "\n",
    "\n",
    "li=['a','b','c','d','e']\n",
    "pets=['dog','cat','fish','cat']\n",
    "\n",
    "x=li+pets\n",
    "print(x)\n",
    "\n"
   ]
  },
  {
   "cell_type": "code",
   "execution_count": 5,
   "id": "ce7aa260",
   "metadata": {},
   "outputs": [
    {
     "data": {
      "text/plain": [
       "[1, 26, 51, 101]"
      ]
     },
     "execution_count": 5,
     "metadata": {},
     "output_type": "execute_result"
    }
   ],
   "source": [
    "#5.how to manipulate every element in a list with list comprehension, new list with 1 added to every element.|li=[0,25,50,100]\n",
    "\n",
    "li = [0,25,50,100]\n",
    "[i+1 for i in li] \n"
   ]
  },
  {
   "cell_type": "code",
   "execution_count": 6,
   "id": "b829dc03",
   "metadata": {},
   "outputs": [
    {
     "data": {
      "text/plain": [
       "1"
      ]
     },
     "execution_count": 6,
     "metadata": {},
     "output_type": "execute_result"
    }
   ],
   "source": [
    "#6.count the occurence of a specific object in a list|pets=['dog','cat','fish','cat'] count fish\n",
    "\n",
    "pets=['dog','cat','fish','cat']\n",
    "pets.count('fish')"
   ]
  },
  {
   "cell_type": "code",
   "execution_count": 7,
   "id": "7283b004",
   "metadata": {},
   "outputs": [
    {
     "name": "stdout",
     "output_type": "stream",
     "text": [
      "5\n"
     ]
    }
   ],
   "source": [
    "#7.return the lenght of a list|li=['a','b','c','d','e']\n",
    "li=['a','b','c','d','e']\n",
    "x=(len(li))\n",
    "print(x)"
   ]
  },
  {
   "cell_type": "code",
   "execution_count": 8,
   "id": "ac8f3703",
   "metadata": {},
   "outputs": [
    {
     "name": "stdout",
     "output_type": "stream",
     "text": [
      "not present\n"
     ]
    }
   ],
   "source": [
    "#8.how to check if an element is not in a list?|li=[1,2,3,4]check 4 and 5\n",
    "li=[1,2,3,4]\n",
    "if 4 and 5  not in li:\n",
    "    print('not present')\n"
   ]
  },
  {
   "cell_type": "code",
   "execution_count": 9,
   "id": "1ee28bf5",
   "metadata": {},
   "outputs": [
    {
     "data": {
      "text/plain": [
       "[0, 125, 250, 500]"
      ]
     },
     "execution_count": 9,
     "metadata": {},
     "output_type": "execute_result"
    }
   ],
   "source": [
    "#9.multiply every element in a list by 5 |a=[10,20,30,40,50]\n",
    "\n",
    "li = [0,25,50,100]\n",
    "[i*5 for i in li] \n",
    "\n"
   ]
  },
  {
   "cell_type": "code",
   "execution_count": 10,
   "id": "d350af57",
   "metadata": {},
   "outputs": [
    {
     "name": "stdout",
     "output_type": "stream",
     "text": [
      "['a', 'b', 'HERE', 'c', 'd', 'e']\n"
     ]
    }
   ],
   "source": [
    "#10.insert a value at a specific index in an existing list|li=['a','b','c','d','e']at 2nd position 'HERE'\n",
    "li=['a','b','c','d','e']\n",
    "li.insert(2,'HERE')\n",
    "print(li)"
   ]
  },
  {
   "cell_type": "code",
   "execution_count": 11,
   "id": "cbbc9e53",
   "metadata": {},
   "outputs": [
    {
     "name": "stdout",
     "output_type": "stream",
     "text": [
      "[1, 2, 3, 4, 5, 6, 7, 8, 9, 10]\n",
      "[1, 2, 3, 4, 5, 6, 7, 8, 9, 10, 11, 12, 13, 14, 15, 16, 17, 18, 19, 10]\n"
     ]
    }
   ],
   "source": [
    "#11.remove element in a list after a specific index |li=[1,2,3,4,5,6,7,8,9,10,11,12,13,14,15,16,17,18,19,10]\n",
    "#i want only first 1 to 10 numbers\n",
    "\n",
    "li=[1,2,3,4,5,6,7,8,9,10,11,12,13,14,15,16,17,18,19,10]\n",
    "\n",
    "print(li[0:10])\n",
    "print(li)"
   ]
  },
  {
   "cell_type": "code",
   "execution_count": 12,
   "id": "b780b939",
   "metadata": {},
   "outputs": [
    {
     "name": "stdout",
     "output_type": "stream",
     "text": [
      "[1, 2, 3, 4, 5, 6, 7, 8, 9, 10, 11, 12, 17, 18, 19, 10]\n"
     ]
    }
   ],
   "source": [
    "#12.remove element in a list between 2 indices |li=[1,2,3,4,5,6,7,8,9,10,11,12,13,14,15,16,17,18,19,10]from 13 to 17 \n",
    "li=[1,2,3,4,5,6,7,8,9,10,11,12,13,14,15,16,17,18,19,10]\n",
    "del li[12:16]\n",
    "print(li)"
   ]
  },
  {
   "cell_type": "code",
   "execution_count": 13,
   "id": "59aa9d5f",
   "metadata": {},
   "outputs": [
    {
     "name": "stdout",
     "output_type": "stream",
     "text": [
      "[1, 2, 3, 7, 8, 9, 10, 11, 12, 13, 14, 15, 16, 17, 18, 19, 10]\n"
     ]
    }
   ],
   "source": [
    "#13.remove element 2nd element in a list between 2 indices |li=[1,2,3,4,5,6,7,8,9,10,11,12,13,14,15,16,17,18,19,10]between 4to 6\n",
    "li=[1,2,3,4,5,6,7,8,9,10,11,12,13,14,15,16,17,18,19,10]\n",
    "del li[3:6]\n",
    "print(li)"
   ]
  },
  {
   "cell_type": "code",
   "execution_count": 14,
   "id": "cfaf7699",
   "metadata": {},
   "outputs": [
    {
     "name": "stdout",
     "output_type": "stream",
     "text": [
      "[1, 2, 3, 4, 5, 6, 7, 8, 9, 10]\n"
     ]
    }
   ],
   "source": [
    "#14.sort a list of integers in ascending order|li=[10,1,9,2,8,3,7,4,6,5]\n",
    "li=[10,1,9,2,8,3,7,4,6,5]\n",
    "li.sort()\n",
    "print(li)\n"
   ]
  },
  {
   "cell_type": "code",
   "execution_count": 15,
   "id": "f88450cf",
   "metadata": {},
   "outputs": [
    {
     "name": "stdout",
     "output_type": "stream",
     "text": [
      "[10, 9, 8, 7, 6, 5, 4, 3, 2, 1]\n"
     ]
    }
   ],
   "source": [
    "#15.sort a list of integers in decending order|li=[10,1,9,2,8,3,7,4,6,5]\n",
    "li=[10,1,9,2,8,3,7,4,6,5]\n",
    "li.sort(reverse=True)\n",
    "print(li)\n"
   ]
  },
  {
   "cell_type": "code",
   "execution_count": 16,
   "id": "195db9d4",
   "metadata": {},
   "outputs": [
    {
     "name": "stdout",
     "output_type": "stream",
     "text": [
      "[1, 2, 3, 4, 5, 6, 7, 8, 9, 10]\n"
     ]
    }
   ],
   "source": [
    "#16.filter even values out of a list with list comprehension|li=[1,2,3,4,5,6,7,8,9,10]\n",
    "li=[1,2,3,4,5,6,7,8,9,10]\n",
    "[i for i in li if i%2==0]\n",
    "print(li)"
   ]
  },
  {
   "cell_type": "code",
   "execution_count": 17,
   "id": "458601e5",
   "metadata": {},
   "outputs": [
    {
     "data": {
      "text/plain": [
       "[1, 4, 7, 10, 13]"
      ]
     },
     "execution_count": 17,
     "metadata": {},
     "output_type": "execute_result"
    }
   ],
   "source": [
    "#17.get the first element from each nested list in a list |li=[[1,2,3],[4,5,6],[7,8,9],[10,11,12],[13,14,15]]\n",
    "li=[[1,2,3],[4,5,6],[7,8,9],[10,11,12],[13,14,15]]\n",
    "[i[0] for i in li]"
   ]
  },
  {
   "cell_type": "code",
   "execution_count": 18,
   "id": "467cc4a3",
   "metadata": {},
   "outputs": [
    {
     "data": {
      "text/plain": [
       "'the quick brown fox jumped over the lazy dog'"
      ]
     },
     "execution_count": 18,
     "metadata": {},
     "output_type": "execute_result"
    }
   ],
   "source": [
    "#18.combine elements in a list into a single string.|li=['the', 'quick', 'brown', 'fox', 'jumped', 'over', 'the', 'lazy', 'dog']\n",
    "\n",
    "li=['the', 'quick', 'brown', 'fox', 'jumped', 'over', 'the', 'lazy', 'dog']\n",
    "' '.join(li)\n"
   ]
  },
  {
   "cell_type": "code",
   "execution_count": 19,
   "id": "fe97d7b0",
   "metadata": {},
   "outputs": [
    {
     "name": "stdout",
     "output_type": "stream",
     "text": [
      "[10, 9, 8, 7, 6, 5, 4, 3, 2, 1]\n"
     ]
    }
   ],
   "source": [
    "#19.reverse the order of a list |li=[1,2,3,4,5,6,7,8,9,10]\n",
    "li=[1,2,3,4,5,6,7,8,9,10]\n",
    "li.reverse()\n",
    "print(li)"
   ]
  },
  {
   "cell_type": "code",
   "execution_count": 20,
   "id": "e103eff4",
   "metadata": {},
   "outputs": [
    {
     "data": {
      "text/plain": [
       "1"
      ]
     },
     "execution_count": 20,
     "metadata": {},
     "output_type": "execute_result"
    }
   ],
   "source": [
    "#20.return the minimum value in the list|li=[10,1,9,2,8,3,7,4,6,5]\n",
    "li=[10,1,9,2,8,3,7,4,6,5]\n",
    "min(li)"
   ]
  },
  {
   "cell_type": "code",
   "execution_count": 21,
   "id": "7d492385",
   "metadata": {},
   "outputs": [
    {
     "data": {
      "text/plain": [
       "55"
      ]
     },
     "execution_count": 21,
     "metadata": {},
     "output_type": "execute_result"
    }
   ],
   "source": [
    "#21.return the sum of values in the list|li=[10,1,9,2,8,3,7,4,6,5]with sum function and without sum function\n",
    "\n",
    "li=[10,1,9,2,8,3,7,4,6,5]\n",
    "sum(li)\n",
    "\n"
   ]
  },
  {
   "cell_type": "code",
   "execution_count": 22,
   "id": "aa2f7fac",
   "metadata": {},
   "outputs": [
    {
     "data": {
      "text/plain": [
       "{2, 3, 4}"
      ]
     },
     "execution_count": 22,
     "metadata": {},
     "output_type": "execute_result"
    }
   ],
   "source": [
    "#22.find the intersection (same element)of 2 lists|li1=[1,2,3] li2=[2,3,4]\n",
    "li1=[1,2,3]\n",
    "li2=[2,3,4]\n",
    "set(li1) and set(li2)\n"
   ]
  },
  {
   "cell_type": "code",
   "execution_count": null,
   "id": "6bf37777",
   "metadata": {},
   "outputs": [],
   "source": [
    "#23.faltten a  list of lists with a list comprehension |li=[[1,2,3],[4,5,6]] O/P. will be [1,2,3,4,5,6]\n",
    "\n",
    "li=[[1,2,3],[4,5,6]] \n",
    "\n"
   ]
  },
  {
   "cell_type": "code",
   "execution_count": 23,
   "id": "dd399f5c",
   "metadata": {},
   "outputs": [
    {
     "name": "stdout",
     "output_type": "stream",
     "text": [
      "Enter a number : 8\n",
      "0\n",
      "2\n",
      "4\n",
      "6\n"
     ]
    }
   ],
   "source": [
    "#24. generate a list of every integer between 2 values. take user input\n",
    "num=int(input(\"Enter a number : \"))\n",
    "for i in range(0,num):\n",
    "    if i%2==0:\n",
    "        print(i)"
   ]
  },
  {
   "cell_type": "code",
   "execution_count": 24,
   "id": "014c015b",
   "metadata": {},
   "outputs": [
    {
     "name": "stdout",
     "output_type": "stream",
     "text": [
      "[4, 3, 'b', 'a']\n"
     ]
    }
   ],
   "source": [
    "#25. reverse a order of a list using the slice syntax |li=['a','b',3,4]\n",
    "li=['a','b',3,4]\n",
    "#li[::-1]\n",
    "#print(li)\n",
    "\n",
    "li.reverse()\n",
    "print(li)"
   ]
  },
  {
   "cell_type": "code",
   "execution_count": 25,
   "id": "d58f97cd",
   "metadata": {},
   "outputs": [
    {
     "name": "stdout",
     "output_type": "stream",
     "text": [
      "['mike', 'kelike', 'Emly', 'Brad']\n"
     ]
    }
   ],
   "source": [
    "#26. remove empty string from the list of strings |list=[\"mike\",\"Emma\",\"kelly\",\"\",\"Brad\"]\n",
    "list1=[\"mike\",\"kelike\",\"Emly\",\" \",\"Brad\"]\n",
    "list1.remove(\" \")\n",
    "print(list1)\n",
    "\n"
   ]
  },
  {
   "cell_type": "code",
   "execution_count": 26,
   "id": "f192577b",
   "metadata": {},
   "outputs": [
    {
     "name": "stdout",
     "output_type": "stream",
     "text": [
      "[10, 20, [300, 400, [5000, 6000, 7000], 500], 30, 40]\n"
     ]
    }
   ],
   "source": [
    "#27. add new item to list after a specific item |list1=[10,20,[300,400,[5000,6000],500],30,40] \n",
    "#EXPECTED [10,20,[300,400,[5000,6000,7000],500],30,40]\n",
    "\n",
    "list1=[10,20,[300,400,[5000,6000],500],30,40] \n",
    "\n",
    "list1[2][2].append(7000) # slicing and indexing \n",
    "print(list1)\n"
   ]
  },
  {
   "cell_type": "code",
   "execution_count": 27,
   "id": "6b1c42c1",
   "metadata": {},
   "outputs": [
    {
     "name": "stdout",
     "output_type": "stream",
     "text": [
      "['a', 'b', ['c', ['d', 'e', ['f', 'g', 'h', 'i', 'j'], 'k'], 'I'], 'm', 'n']\n"
     ]
    }
   ],
   "source": [
    "#28.extend nested list by adding the sublist list1=[\"a\",\"b\",[\"c\",[\"d\",\"e\",[\"f\",\"g\"],\"k\"],\"I\"],\"m\",\"n\"] AND \n",
    "#sub list to add sub_list =[\"h\",\"i\",\"j\"] expected O/P:['a','b',['c',['d','e',['f','g','h','i','j'],'k'],'i'],'m','n']\n",
    "\n",
    "list1=[\"a\",\"b\",[\"c\",[\"d\",\"e\",[\"f\",\"g\"],\"k\"],\"I\"],\"m\",\"n\"] \n",
    "sub_list =[\"h\",\"i\",\"j\"]\n",
    "\n",
    "list1[2][1][2].append(\"h\")\n",
    "list1[2][1][2].append(\"i\")\n",
    "list1[2][1][2].append(\"j\")\n",
    "print(list1)"
   ]
  },
  {
   "cell_type": "code",
   "execution_count": 28,
   "id": "9078be6d",
   "metadata": {},
   "outputs": [
    {
     "name": "stdout",
     "output_type": "stream",
     "text": [
      "[5, 10, 15, 200, 25, 50, 20]\n"
     ]
    }
   ],
   "source": [
    "#29. replace list's item with new value if found |list1=[5,10,15,20,25,50,20] EXPECTED O/P:[5,10,15,200,25,50,20]\n",
    "list1=[5,10,15,20,25,50,20]\n",
    "list1[3]=200\n",
    "print(list1)\n"
   ]
  },
  {
   "cell_type": "code",
   "execution_count": 2,
   "id": "ed6bd0db",
   "metadata": {},
   "outputs": [
    {
     "data": {
      "text/plain": [
       "[5, 15, 20, 25, 50, 20]"
      ]
     },
     "execution_count": 2,
     "metadata": {},
     "output_type": "execute_result"
    }
   ],
   "source": [
    "#30. remove all occurrences of a specific item from a list. remove all occurrences of item 20.|list1=[5,20,15,20,25,50,20]\n",
    "\n",
    "list1=[5,20,15,20,25,50,20]\n",
    "list1.remove(20)\n",
    "list1"
   ]
  },
  {
   "cell_type": "code",
   "execution_count": 3,
   "id": "b7965323",
   "metadata": {},
   "outputs": [
    {
     "name": "stdout",
     "output_type": "stream",
     "text": [
      "<zip object at 0x000001832C3FD040>\n"
     ]
    }
   ],
   "source": [
    "#31. combine 2 lists into a dictionary |name=['Snowball','Chewy','Bubbles','Gruff'] \n",
    "#and anima=['Cat','Dog','Fish','Goat'] USING zip funcion.\n",
    "\n",
    "name=['Snowball','Chewy','Bubbles','Gruff'] \n",
    "\n",
    "animal=['Cat','Dog','Fish','Goat']\n",
    "\n",
    "list=(zip(name,animal))\n",
    "print(list)\n"
   ]
  },
  {
   "cell_type": "code",
   "execution_count": null,
   "id": "39f42fef",
   "metadata": {},
   "outputs": [],
   "source": [
    "name=['snowball' , 'chew','bibbles','gruff']\n",
    "animal=['cat','dog','fish','goat']"
   ]
  },
  {
   "cell_type": "code",
   "execution_count": null,
   "id": "497f7586",
   "metadata": {},
   "outputs": [],
   "source": [
    "list(zip(name,animal))"
   ]
  },
  {
   "cell_type": "code",
   "execution_count": null,
   "id": "2ae6c971",
   "metadata": {},
   "outputs": [],
   "source": [
    "zip"
   ]
  },
  {
   "cell_type": "code",
   "execution_count": 1,
   "id": "24083e86",
   "metadata": {},
   "outputs": [
    {
     "name": "stdout",
     "output_type": "stream",
     "text": [
      "{'Snowball': 'Cat', 'Chewy': 'Dog', 'Bubbles': 'Fish', 'Gruff': 'Goat'}\n"
     ]
    }
   ],
   "source": [
    "name = ['Snowball', 'Chewy', 'Bubbles', 'Gruff']\n",
    "anima = ['Cat', 'Dog', 'Fish', 'Goat']\n",
    "\n",
    "my_dict = dict(zip(name, anima))\n",
    "\n",
    "print(my_dict)\n"
   ]
  },
  {
   "cell_type": "code",
   "execution_count": null,
   "id": "89d0072d",
   "metadata": {},
   "outputs": [],
   "source": []
  },
  {
   "cell_type": "code",
   "execution_count": null,
   "id": "09c69332",
   "metadata": {},
   "outputs": [],
   "source": []
  }
 ],
 "metadata": {
  "kernelspec": {
   "display_name": "Python 3 (ipykernel)",
   "language": "python",
   "name": "python3"
  },
  "language_info": {
   "codemirror_mode": {
    "name": "ipython",
    "version": 3
   },
   "file_extension": ".py",
   "mimetype": "text/x-python",
   "name": "python",
   "nbconvert_exporter": "python",
   "pygments_lexer": "ipython3",
   "version": "3.9.12"
  }
 },
 "nbformat": 4,
 "nbformat_minor": 5
}
